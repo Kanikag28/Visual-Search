{
 "cells": [
  {
   "cell_type": "markdown",
   "metadata": {},
   "source": [
    "# REGRESSION\n",
    "Regression is about predicitng a relationship between two or more variables.\n",
    "It predicts a continuous outcome.(a numeric outcome)\n",
    "Example; \n",
    "- To predict house rate on the basis of size of house\n",
    "- To predict the crime rate in a city on the basis of number of graduates.\n",
    "\n",
    "In regression we have a independent variable(\"predictors\", \"target variable\") and a dependent variable(\"labels\", \"outcome variable\") .\n",
    "\n",
    "## 1. Linear Regression\n",
    "Linear Regression models the relationship between the variables through a linear equation __y = mx + b__ where m is the slope and b is the y intercept.\n",
    "\n",
    "m and b can be found out by two methods:\n",
    "- Ordinary Least Mean Square Method\n",
    "- Gradient Descent\n",
    "\n",
    "### Ordinary Least Mean Square Method\n",
    "First step is to calculate the m.\n",
    "\\begin{equation*}\n",
    "\\beta_i  = \\frac{\\sum_{i} (x_i -\\bar{x}) (y_i -\\bar{y})}{\\sum_{i} (x_i -\\bar{x})^2} \n",
    "\\end{equation*}\n",
    "\n",
    "$\\beta_i = m$\n",
    "\n",
    "After finding $\\beta_i$ , we can write the linear equation as:\n",
    "$ b = \\bar{y} - \\beta_i\\bar{x} $ \n",
    "\n",
    "$ \\bar{x} $ is the mean of values of input variable X and $ \\bar{y} $ is the mean of the output variable Y.\n",
    "\n",
    "Now , we got values of m and b.\n",
    "\n",
    "So first we will import all the libraries needed and load the dataset to test on.\n",
    "Our dataset has 4 variables - Gender, Age Range , Head Size and Brain weights. We'll find the relationship between head size and brain weights."
   ]
  },
  {
   "cell_type": "code",
   "execution_count": 1,
   "metadata": {},
   "outputs": [
    {
     "name": "stdout",
     "output_type": "stream",
     "text": [
      "(237, 4)\n"
     ]
    },
    {
     "data": {
      "text/html": [
       "<div>\n",
       "<style scoped>\n",
       "    .dataframe tbody tr th:only-of-type {\n",
       "        vertical-align: middle;\n",
       "    }\n",
       "\n",
       "    .dataframe tbody tr th {\n",
       "        vertical-align: top;\n",
       "    }\n",
       "\n",
       "    .dataframe thead th {\n",
       "        text-align: right;\n",
       "    }\n",
       "</style>\n",
       "<table border=\"1\" class=\"dataframe\">\n",
       "  <thead>\n",
       "    <tr style=\"text-align: right;\">\n",
       "      <th></th>\n",
       "      <th>Gender</th>\n",
       "      <th>Age Range</th>\n",
       "      <th>Head Size(cm^3)</th>\n",
       "      <th>Brain Weight(grams)</th>\n",
       "    </tr>\n",
       "  </thead>\n",
       "  <tbody>\n",
       "    <tr>\n",
       "      <th>0</th>\n",
       "      <td>1</td>\n",
       "      <td>1</td>\n",
       "      <td>4512</td>\n",
       "      <td>1530</td>\n",
       "    </tr>\n",
       "    <tr>\n",
       "      <th>1</th>\n",
       "      <td>1</td>\n",
       "      <td>1</td>\n",
       "      <td>3738</td>\n",
       "      <td>1297</td>\n",
       "    </tr>\n",
       "    <tr>\n",
       "      <th>2</th>\n",
       "      <td>1</td>\n",
       "      <td>1</td>\n",
       "      <td>4261</td>\n",
       "      <td>1335</td>\n",
       "    </tr>\n",
       "    <tr>\n",
       "      <th>3</th>\n",
       "      <td>1</td>\n",
       "      <td>1</td>\n",
       "      <td>3777</td>\n",
       "      <td>1282</td>\n",
       "    </tr>\n",
       "    <tr>\n",
       "      <th>4</th>\n",
       "      <td>1</td>\n",
       "      <td>1</td>\n",
       "      <td>4177</td>\n",
       "      <td>1590</td>\n",
       "    </tr>\n",
       "  </tbody>\n",
       "</table>\n",
       "</div>"
      ],
      "text/plain": [
       "   Gender  Age Range  Head Size(cm^3)  Brain Weight(grams)\n",
       "0       1          1             4512                 1530\n",
       "1       1          1             3738                 1297\n",
       "2       1          1             4261                 1335\n",
       "3       1          1             3777                 1282\n",
       "4       1          1             4177                 1590"
      ]
     },
     "execution_count": 1,
     "metadata": {},
     "output_type": "execute_result"
    }
   ],
   "source": [
    "%matplotlib inline\n",
    "import numpy as np\n",
    "import matplotlib.pyplot as plt\n",
    "import pandas as pd\n",
    "sumofsquares = 0\n",
    "sumofresiduals = 0\n",
    "\n",
    "for i in range(n) :\n",
    "    y_pred = b0 + b1 * X[i]\n",
    "    sumofsquares += (Y[i] - y_mean) ** 2\n",
    "    sumofresiduals += (Y[i] - y_pred) **2\n",
    "    \n",
    "score  = 1 - (sumofresiduals/sumofsquares)\n",
    "\n",
    "print(score)\n",
    "dataset = pd.read_csv('dataset.csv')\n",
    "print(dataset.shape)\n",
    "dataset.head()"
   ]
  },
  {
   "cell_type": "markdown",
   "metadata": {},
   "source": [
    "As now we loaded our dataset, we'll set the Head Size as Input variable and Brain weights as the Outcome variable. "
   ]
  },
  {
   "cell_type": "code",
   "execution_count": 12,
   "metadata": {},
   "outputs": [
    {
     "name": "stdout",
     "output_type": "stream",
     "text": [
      "[4512 3738 4261 3777 4177]\n",
      "[1530 1297 1335 1282 1590]\n"
     ]
    },
    {
     "data": {
      "image/png": "[encoded data removed]",
      "text/plain": [
       "<Figure size 432x288 with 1 Axes>"
      ]
     },
     "metadata": {
      "needs_background": "light"
     },
     "output_type": "display_data"
    }
   ],
   "source": [
    "X = dataset['Head Size(cm^3)'].values\n",
    "Y = dataset['Brain Weight(grams)'].values\n",
    "print (X[0:5])  # Just to check\n",
    "print (Y[0:5])\n",
    "plt.scatter(X,Y)\n",
    "plt.xlabel(\"Head Size(cm^3)\")\n",
    "plt.ylabel(\"Brain Weight(grams)\")\n",
    "plt.show()"
   ]
  },
  {
   "cell_type": "markdown",
   "metadata": {},
   "source": [
    "Now we'll get the mean of X and Y as we need them for our formula and also the length of dataset for value of i in summation. And then calculate value of m and b."
   ]
  },
  {
   "cell_type": "code",
   "execution_count": 10,
   "metadata": {},
   "outputs": [
    {
     "name": "stdout",
     "output_type": "stream",
     "text": [
      "slope =  0.26342933948939945\n",
      "y-intercept =  325.57342104944223\n"
     ]
    }
   ],
   "source": [
    "x_mean = np.mean(X)\n",
    "y_mean = np.mean(Y)\n",
    "n = len(X)\n",
    "p,q = 0,0\n",
    "\n",
    "for i in range(n):\n",
    "    p = p + (X[i] - x_mean)*(Y[i] - y_mean)\n",
    "    q = q + (X[i] - x_mean)**2\n",
    "    \n",
    "m = p/q\n",
    "b = y_mean - m*x_mean\n",
    "print(\"slope = \", m)\n",
    "print(\"y-intercept = \",b)"
   ]
  },
  {
   "cell_type": "markdown",
   "metadata": {},
   "source": [
    "So, now we found the relationship between our variables , i.e.\n",
    "\n",
    "### Brain_weights =  325.57342104944223 +  0.26342933948939945*Head_size\n",
    "So, now let's plot it with our line."
   ]
  },
  {
   "cell_type": "code",
   "execution_count": 26,
   "metadata": {},
   "outputs": [
    {
     "data": {
      "image/png": "[encoded data removed]",
      "text/plain": [
       "<Figure size 432x288 with 1 Axes>"
      ]
     },
     "metadata": {
      "needs_background": "light"
     },
     "output_type": "display_data"
    }
   ],
   "source": [
    "x = np.linspace(np.min(X),np.max(X),1000)\n",
    "y = b + m * x\n",
    "plt.plot(x, y, color='#00ff00', label='Linear Regression')  #will plot the line\n",
    "plt.scatter(X, Y, color='#ff0000', label='Data Point')      #will plot the datapoints\n",
    "plt.xlabel('Head Size (cm^3)')\n",
    "plt.ylabel('Brain Weight (grams)')\n",
    "plt.legend()\n",
    "plt.show()"
   ]
  },
  {
   "cell_type": "markdown",
   "metadata": {},
   "source": [
    "__Linspace__ creates a row vector of 1000 (or as mentioned) points linearly spaced between x and y.\n",
    "Now we can calulate the accuracy of our model by two methods- __Root mean squared error__ and __coefficient of Determination (R² Score)__.\n",
    "\n",
    "__Root Mean Squared Error__ is the square root of the sum of all errors divided by the number of values.\n",
    "$ RMSE = \\sqrt(\\frac{\\sum_{j=1}^n (y_j -\\hat{y_j})^2}{n}) $\n",
    "\n",
    "$ y_j $ is the actual outcome value in dataset and $\\hat{y_j} $ is the predicted outcome value by the equation we got."
   ]
  },
  {
   "cell_type": "code",
   "execution_count": 27,
   "metadata": {},
   "outputs": [
    {
     "name": "stdout",
     "output_type": "stream",
     "text": [
      "72.1206213783709\n"
     ]
    }
   ],
   "source": [
    "rmse = 0\n",
    "for i in range(n):\n",
    "    y_pred=  b + m* X[i]\n",
    "    rmse += (Y[i] - y_pred) ** 2\n",
    "    \n",
    "rmse = np.sqrt(rmse/n)\n",
    "\n",
    "print(rmse)"
   ]
  },
  {
   "cell_type": "markdown",
   "metadata": {},
   "source": [
    "There is no applicable value for RMSE but lesser the value of RMSE , more the accuracy of model.\n",
    "\n",
    "__R² score__ is the measure of the accuracy of our linear model.This value ranges from 0 to 1. Value ‘1’ indicates predictor perfectly accounts for all the variation in Y. Value ‘0’ indicates that predictor ‘x’ accounts for no variation in ‘y’.It will also become negative if the model is completely wrong\n",
    "\n",
    "$$ R^2 = \\frac{SSR}{SST} = \\frac{\\sum (\\hat{y_i} - \\bar{y})^2}{\\sum (y_i - \\bar{y})^2} $$\n",
    "\n",
    "__SST__ is the total sum of squares and tells how much the data point move around the mean.\n",
    "\n",
    "  __SST = Sum of (Actual_output - average_of_actual_output)**2__\n",
    " \n",
    "__SSR__ is the total sum of squares of residuals and gives information about how far estimated regression line is from the horizontal ‘no relationship’ line (average of actual output).\n",
    "\n",
    "  __SSR = Sum of (Predicted_output - average_of_actual_output)**2__"
   ]
  },
  {
   "cell_type": "code",
   "execution_count": 28,
   "metadata": {},
   "outputs": [
    {
     "name": "stdout",
     "output_type": "stream",
     "text": [
      "0.6393117199570003\n"
     ]
    }
   ],
   "source": [
    "sumofsquares = 0\n",
    "sumofresiduals = 0\n",
    "\n",
    "for i in range(n) :\n",
    "    y_pred = b + m * X[i]\n",
    "    sumofsquares += (Y[i] - y_mean) ** 2\n",
    "    sumofresiduals += (Y[i] - y_pred) **2\n",
    "    \n",
    "score  = 1 - (sumofresiduals/sumofsquares)\n",
    "\n",
    "print(score)"
   ]
  },
  {
   "cell_type": "markdown",
   "metadata": {},
   "source": [
    "### Gradient Descent Approach.\n",
    "Gradient Descent approach aims to find the minimum of loss function. \n",
    "__Loss function__ is the error in our predicted value of m and b. We can calculate loss by Mean Squared Error function.\n",
    "\n",
    "$$ E = \\frac{1}{n}\\sum_{i=0}^n (y_i - \\hat{y_i})^2 $$\n",
    "where $y_i$ is actual value and $\\hat{y_i}$ is predicted value. The equation can also be written as :\n",
    "$$ E = \\frac{1}{n}\\sum_{i=0}^n (y_i -(mx_i +b))^2 $$\n",
    "\n",
    "First we'll initialize by keeping m and b both as 0. Then, we'll calculate the partial derivative of the loss function with respect to m and b separately .\n",
    "$$ D_m = \\frac{-2}{n}\\sum_{i=0}^n x_i(y_i - \\hat{y_i}) $$\n",
    "and \n",
    "$$ D_b = \\frac{-2}{n}\\sum_{i=0}^n (y_i - \\hat{y_i}) $$\n",
    "\n",
    "And then calculate the current value of m and b using the following equations:\n",
    "$$ m = m -L*D_m $$\n",
    "$$ b = b -L*D_b $$\n",
    "\n",
    "Here, L is the learning rate, which  controls how much the value of m changes with each iteration. The most commonly used rates are : 0.001, 0.003, 0.01, 0.03, 0.1, 0.3.\n",
    "\n",
    "Let's calculate on the new dataset of Standard Metropolitan Areas Data."
   ]
  },
  {
   "cell_type": "code",
   "execution_count": 41,
   "metadata": {},
   "outputs": [
    {
     "data": {
      "text/html": [
       "<div>\n",
       "<style scoped>\n",
       "    .dataframe tbody tr th:only-of-type {\n",
       "        vertical-align: middle;\n",
       "    }\n",
       "\n",
       "    .dataframe tbody tr th {\n",
       "        vertical-align: top;\n",
       "    }\n",
       "\n",
       "    .dataframe thead th {\n",
       "        text-align: right;\n",
       "    }\n",
       "</style>\n",
       "<table border=\"1\" class=\"dataframe\">\n",
       "  <thead>\n",
       "    <tr style=\"text-align: right;\">\n",
       "      <th></th>\n",
       "      <th>land_area</th>\n",
       "      <th>percent_city</th>\n",
       "      <th>percent_senior</th>\n",
       "      <th>physicians</th>\n",
       "      <th>hospital_beds</th>\n",
       "      <th>graduates</th>\n",
       "      <th>work_force</th>\n",
       "      <th>income</th>\n",
       "      <th>region</th>\n",
       "      <th>crime_rate</th>\n",
       "    </tr>\n",
       "  </thead>\n",
       "  <tbody>\n",
       "    <tr>\n",
       "      <th>0</th>\n",
       "      <td>1384</td>\n",
       "      <td>78.1</td>\n",
       "      <td>12.3</td>\n",
       "      <td>25627</td>\n",
       "      <td>69678</td>\n",
       "      <td>50.1</td>\n",
       "      <td>4083.9</td>\n",
       "      <td>72100</td>\n",
       "      <td>1</td>\n",
       "      <td>75.55</td>\n",
       "    </tr>\n",
       "    <tr>\n",
       "      <th>1</th>\n",
       "      <td>3719</td>\n",
       "      <td>43.9</td>\n",
       "      <td>9.4</td>\n",
       "      <td>13326</td>\n",
       "      <td>43292</td>\n",
       "      <td>53.9</td>\n",
       "      <td>3305.9</td>\n",
       "      <td>54542</td>\n",
       "      <td>2</td>\n",
       "      <td>56.03</td>\n",
       "    </tr>\n",
       "    <tr>\n",
       "      <th>2</th>\n",
       "      <td>3553</td>\n",
       "      <td>37.4</td>\n",
       "      <td>10.7</td>\n",
       "      <td>9724</td>\n",
       "      <td>33731</td>\n",
       "      <td>50.6</td>\n",
       "      <td>2066.3</td>\n",
       "      <td>33216</td>\n",
       "      <td>1</td>\n",
       "      <td>41.32</td>\n",
       "    </tr>\n",
       "    <tr>\n",
       "      <th>3</th>\n",
       "      <td>3916</td>\n",
       "      <td>29.9</td>\n",
       "      <td>8.8</td>\n",
       "      <td>6402</td>\n",
       "      <td>24167</td>\n",
       "      <td>52.2</td>\n",
       "      <td>1966.7</td>\n",
       "      <td>32906</td>\n",
       "      <td>2</td>\n",
       "      <td>67.38</td>\n",
       "    </tr>\n",
       "    <tr>\n",
       "      <th>4</th>\n",
       "      <td>2480</td>\n",
       "      <td>31.5</td>\n",
       "      <td>10.5</td>\n",
       "      <td>8502</td>\n",
       "      <td>16751</td>\n",
       "      <td>66.1</td>\n",
       "      <td>1514.5</td>\n",
       "      <td>26573</td>\n",
       "      <td>4</td>\n",
       "      <td>80.19</td>\n",
       "    </tr>\n",
       "  </tbody>\n",
       "</table>\n",
       "</div>"
      ],
      "text/plain": [
       "   land_area  percent_city  percent_senior  physicians  hospital_beds  \\\n",
       "0       1384          78.1            12.3       25627          69678   \n",
       "1       3719          43.9             9.4       13326          43292   \n",
       "2       3553          37.4            10.7        9724          33731   \n",
       "3       3916          29.9             8.8        6402          24167   \n",
       "4       2480          31.5            10.5        8502          16751   \n",
       "\n",
       "   graduates  work_force  income  region  crime_rate  \n",
       "0       50.1      4083.9   72100       1       75.55  \n",
       "1       53.9      3305.9   54542       2       56.03  \n",
       "2       50.6      2066.3   33216       1       41.32  \n",
       "3       52.2      1966.7   32906       2       67.38  \n",
       "4       66.1      1514.5   26573       4       80.19  "
      ]
     },
     "execution_count": 41,
     "metadata": {},
     "output_type": "execute_result"
    }
   ],
   "source": [
    "dataset2 = pd.read_csv('Standard Metropolitan Areas Data - train_data - data.csv')\n",
    "dataset2.head()"
   ]
  },
  {
   "cell_type": "code",
   "execution_count": 44,
   "metadata": {},
   "outputs": [
    {
     "data": {
      "image/png": "[encoded data removed]",
      "text/plain": [
       "<Figure size 432x288 with 1 Axes>"
      ]
     },
     "metadata": {
      "needs_background": "light"
     },
     "output_type": "display_data"
    },
    {
     "name": "stdout",
     "output_type": "stream",
     "text": [
      " m =  1.010902020334535\n",
      " b =  0.029217017247449982\n"
     ]
    }
   ],
   "source": [
    "X = dataset2['graduates'].values\n",
    "Y = dataset2['crime_rate'].values\n",
    "plt.scatter(X,Y)\n",
    "plt.xlabel(\"Graduates\")\n",
    "plt.ylabel(\"Crime_rate\")\n",
    "plt.show()\n",
    "m = 0\n",
    "b = 0\n",
    "L = 0.0001\n",
    "n = len(X)\n",
    "for i in range(n):\n",
    "    Y_pred = m*X + b\n",
    "    D_m = (-2/n) * sum(X * (Y - Y_pred))  \n",
    "    D_b = (-2/n) * sum(Y - Y_pred) \n",
    "    m = m - L * D_m \n",
    "    b = b - L * D_b\n",
    "print (\" m = \" , m)\n",
    "print(\" b = \", b)"
   ]
  },
  {
   "cell_type": "code",
   "execution_count": 45,
   "metadata": {},
   "outputs": [
    {
     "data": {
      "image/png": "[encoded data removed]",
      "text/plain": [
       "<Figure size 432x288 with 1 Axes>"
      ]
     },
     "metadata": {
      "needs_background": "light"
     },
     "output_type": "display_data"
    }
   ],
   "source": [
    "x = np.linspace(np.min(X),np.max(X),1000)\n",
    "y = b + m * x\n",
    "plt.plot(x, y, color='#00ff00', label='Linear Regression')  #will plot the line\n",
    "plt.scatter(X, Y, color='#ff0000', label='Data Point')      #will plot the datapoints\n",
    "plt.xlabel('Graduates')\n",
    "plt.ylabel('Crime_rate')\n",
    "plt.legend()\n",
    "plt.show()"
   ]
  }
 ],
 "metadata": {
  "kernelspec": {
   "display_name": "Python 3",
   "language": "python",
   "name": "python3"
  },
  "language_info": {
   "codemirror_mode": {
    "name": "ipython",
    "version": 3
   },
   "file_extension": ".py",
   "mimetype": "text/x-python",
   "name": "python",
   "nbconvert_exporter": "python",
   "pygments_lexer": "ipython3",
   "version": "3.7.6"
  }
 },
 "nbformat": 4,
 "nbformat_minor": 4
}
